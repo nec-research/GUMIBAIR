{
 "cells": [
  {
   "cell_type": "code",
   "execution_count": 1,
   "metadata": {
    "tags": []
   },
   "outputs": [],
   "source": [
    "import pandas as pd\n",
    "import matplotlib.pyplot as plt\n",
    "import plotting_functions as pf"
   ]
  },
  {
   "cell_type": "markdown",
   "metadata": {},
   "source": [
    "# Parameters"
   ]
  },
  {
   "cell_type": "code",
   "execution_count": 2,
   "metadata": {
    "tags": [
     "parameters"
    ]
   },
   "outputs": [],
   "source": [
    "# paths\n",
    "cohort_info_path = None\n",
    "results_path = None\n",
    "\n",
    "# plot parameters\n",
    "x = \"model\"\n",
    "hue = \"model\""
   ]
  },
  {
   "cell_type": "markdown",
   "metadata": {},
   "source": [
    "# Plot"
   ]
  },
  {
   "cell_type": "markdown",
   "metadata": {},
   "source": [
    "Contains a couple of cells creating a bar plot, using the values from the parameters cell above."
   ]
  },
  {
   "cell_type": "code",
   "execution_count": 3,
   "metadata": {},
   "outputs": [],
   "source": [
    "plt.rcParams['figure.figsize'] = [8, 6]\n",
    "\n",
    "cohort_info = pf.get_cohort_info(\n",
    "    cohort_info_path\n",
    ")\n",
    "\n",
    "labels = [\"GUMIBAIR\", \"RF\", \"MVIB\"]"
   ]
  },
  {
   "cell_type": "code",
   "execution_count": 4,
   "metadata": {},
   "outputs": [],
   "source": [
    "model_colors = {\n",
    "    'GUMIBAIR': 'Greens',\n",
    "    'RF': 'Oranges_d',\n",
    "    'MVIB': 'autumn',\n",
    "}"
   ]
  },
  {
   "cell_type": "code",
   "execution_count": 5,
   "metadata": {},
   "outputs": [],
   "source": [
    "results = pd.read_csv(\n",
    "    results_path\n",
    ")\n",
    "\n",
    "in_c_auroc_subset = pf.subset_metric(results)"
   ]
  },
  {
   "cell_type": "code",
   "execution_count": 6,
   "metadata": {},
   "outputs": [],
   "source": [
    "# create custom color palette\n",
    "custom_palette = list()\n",
    "for model, color in model_colors.items():\n",
    "    custom_palette.extend(\n",
    "        pf.create_color_palette(\n",
    "            color,\n",
    "            start_idx=2,\n",
    "            num_paired_colors=1,\n",
    "            step=1\n",
    "        )\n",
    "    )"
   ]
  },
  {
   "cell_type": "code",
   "execution_count": null,
   "metadata": {},
   "outputs": [],
   "source": [
    "ax = pf.create_barplot(\n",
    "    in_c_auroc_subset,\n",
    "    labels,\n",
    "    labels,\n",
    "    palette=custom_palette,\n",
    "    x=x,\n",
    "    rotation=0,\n",
    "    **{\n",
    "        'width': 0.8,\n",
    "        'dodge': False,\n",
    "    }\n",
    ")\n",
    "\n",
    "rounded_aurocs = [round(container.datavalues[i], 2) for i, container in enumerate(ax.containers)]\n",
    "for i, container in enumerate(ax.containers):\n",
    "    ax.bar_label(container, labels=rounded_aurocs, label_type='center')\n",
    "\n",
    "plt.legend().remove()"
   ]
  }
 ],
 "metadata": {
  "kernelspec": {
   "display_name": "analyse_data",
   "language": "python",
   "name": "python3"
  },
  "language_info": {
   "codemirror_mode": {
    "name": "ipython",
    "version": 3
   },
   "file_extension": ".py",
   "mimetype": "text/x-python",
   "name": "python",
   "nbconvert_exporter": "python",
   "pygments_lexer": "ipython3",
   "version": "3.11.6"
  }
 },
 "nbformat": 4,
 "nbformat_minor": 2
}
